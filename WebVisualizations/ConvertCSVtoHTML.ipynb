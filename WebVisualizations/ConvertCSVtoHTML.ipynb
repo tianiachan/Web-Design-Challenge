{
 "cells": [
  {
   "cell_type": "code",
   "execution_count": 2,
   "metadata": {},
   "outputs": [],
   "source": [
    "# Python program to convert \n",
    "# CSV to HTML Table \n",
    "\n",
    "\n",
    "import pandas as pd \n",
    "\n",
    "# to read csv file named \"cities.csv \n",
    "a = pd.read_csv(\"Resources\\cities.csv\") \n",
    "\n",
    "# to save as html file \n",
    "# named as \"Table\" \n",
    "a.to_html(\"Table.html\") \n",
    "\n",
    "# assign it to a \n",
    "# variable (string) \n",
    "html_file = a.to_html() \n"
   ]
  },
  {
   "cell_type": "code",
   "execution_count": null,
   "metadata": {},
   "outputs": [],
   "source": []
  }
 ],
 "metadata": {
  "kernelspec": {
   "display_name": "Python 3",
   "language": "python",
   "name": "python3"
  },
  "language_info": {
   "codemirror_mode": {
    "name": "ipython",
    "version": 3
   },
   "file_extension": ".py",
   "mimetype": "text/x-python",
   "name": "python",
   "nbconvert_exporter": "python",
   "pygments_lexer": "ipython3",
   "version": "3.7.4"
  }
 },
 "nbformat": 4,
 "nbformat_minor": 2
}
